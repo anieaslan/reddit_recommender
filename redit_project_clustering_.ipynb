{
 "cells": [
  {
   "cell_type": "code",
   "execution_count": 1,
   "metadata": {},
   "outputs": [],
   "source": [
    "import pandas as pd\n",
    "import numpy as np\n",
    "import data_tools as dt\n",
    "import sqlite3\n",
    "import networkx as nx\n",
    "from yellowbrick.cluster import KElbowVisualizer\n",
    "import seaborn as sns\n",
    "from datetime import datetime,date\n",
    "\n",
    "import re, seaborn as sns, numpy as np, pandas as pd, random\n",
    "from pylab import *\n",
    "from matplotlib.pyplot import plot, show, draw, figure, cm\n",
    "import matplotlib.pyplot as plt\n",
    "from mpl_toolkits.mplot3d import Axes3D\n",
    "\n",
    "from sklearn.cluster import KMeans,DBSCAN\n",
    "\n",
    "\n",
    "# pd.set_option('display.float_format', lambda x: '%.5f' % x) # format reset.\n",
    "np.random.seed(42)"
   ]
  },
  {
   "cell_type": "code",
   "execution_count": 3,
   "metadata": {},
   "outputs": [],
   "source": [
    "def vis(df):\n",
    "    vis = KElbowVisualizer(\n",
    "        KMeans().fit(df),\n",
    "        k= (2,51) # rainge of clusters...\n",
    "    )\n",
    "    vis.fit(df)\n",
    "    return vis.elbow_value_"
   ]
  },
  {
   "cell_type": "code",
   "execution_count": 6,
   "metadata": {},
   "outputs": [],
   "source": [
    "# connect = sqlite3.connect('reddit_data.db')\n",
    "\n",
    "# subreddit_data = pd.read_sql_query(\n",
    "    \n",
    "#     \"\"\"SELECT *\n",
    "#     FROM subreddit\n",
    "#     \"\"\"\n",
    "#     ,\n",
    "#     con = connect\n",
    "# )"
   ]
  },
  {
   "cell_type": "code",
   "execution_count": 7,
   "metadata": {},
   "outputs": [],
   "source": [
    "# subreddit_data.to_csv('subreddit_data.csv')"
   ]
  },
  {
   "cell_type": "code",
   "execution_count": 8,
   "metadata": {},
   "outputs": [],
   "source": [
    "reddit_data = pd.read_csv('unclean_subreddit')\n",
    "reddata = pd.read_csv('redit_data_clean.csv')\n",
    "subreddit_data= pd.read_csv('subreddit_data.csv')"
   ]
  },
  {
   "cell_type": "code",
   "execution_count": 9,
   "metadata": {},
   "outputs": [
    {
     "data": {
      "text/html": [
       "<div>\n",
       "<style scoped>\n",
       "    .dataframe tbody tr th:only-of-type {\n",
       "        vertical-align: middle;\n",
       "    }\n",
       "\n",
       "    .dataframe tbody tr th {\n",
       "        vertical-align: top;\n",
       "    }\n",
       "\n",
       "    .dataframe thead th {\n",
       "        text-align: right;\n",
       "    }\n",
       "</style>\n",
       "<table border=\"1\" class=\"dataframe\">\n",
       "  <thead>\n",
       "    <tr style=\"text-align: right;\">\n",
       "      <th></th>\n",
       "      <th>subreddit_id</th>\n",
       "      <th>subreddit</th>\n",
       "    </tr>\n",
       "  </thead>\n",
       "  <tbody>\n",
       "    <tr>\n",
       "      <th>0</th>\n",
       "      <td>0</td>\n",
       "      <td>007</td>\n",
       "    </tr>\n",
       "    <tr>\n",
       "      <th>1</th>\n",
       "      <td>1</td>\n",
       "      <td>065_082_071</td>\n",
       "    </tr>\n",
       "    <tr>\n",
       "      <th>2</th>\n",
       "      <td>2</td>\n",
       "      <td>0ad</td>\n",
       "    </tr>\n",
       "    <tr>\n",
       "      <th>3</th>\n",
       "      <td>3</td>\n",
       "      <td>0x10c</td>\n",
       "    </tr>\n",
       "    <tr>\n",
       "      <th>4</th>\n",
       "      <td>4</td>\n",
       "      <td>0x3642</td>\n",
       "    </tr>\n",
       "  </tbody>\n",
       "</table>\n",
       "</div>"
      ],
      "text/plain": [
       "   subreddit_id    subreddit\n",
       "0             0          007\n",
       "1             1  065_082_071\n",
       "2             2          0ad\n",
       "3             3        0x10c\n",
       "4             4       0x3642"
      ]
     },
     "execution_count": 9,
     "metadata": {},
     "output_type": "execute_result"
    }
   ],
   "source": [
    "subreddit_data.head()"
   ]
  },
  {
   "cell_type": "code",
   "execution_count": 10,
   "metadata": {},
   "outputs": [],
   "source": [
    "base_df =   reddit_data.pivot_table(\n",
    "        index=[\"username_id\"], \n",
    "        columns=[\"subreddit_id\"], \n",
    "        aggfunc={\"subreddit_id\":len},\n",
    "    fill_value = 0\n",
    "    )\n",
    "# x['Subreddit'].nlargest(100)\n",
    "# x.tail()"
   ]
  },
  {
   "cell_type": "code",
   "execution_count": 11,
   "metadata": {},
   "outputs": [],
   "source": [
    "clean_df =   reddata.pivot_table(\n",
    "        index=[\"username_id\"], \n",
    "        columns=[\"subreddit_id\"], \n",
    "        aggfunc={\"subreddit_id\":len},\n",
    "    fill_value = 0\n",
    "    )\n",
    "# x['Subreddit'].nlargest(100)\n",
    "# x.tail()"
   ]
  },
  {
   "cell_type": "code",
   "execution_count": 12,
   "metadata": {},
   "outputs": [
    {
     "data": {
      "text/html": [
       "<div>\n",
       "<style scoped>\n",
       "    .dataframe tbody tr th:only-of-type {\n",
       "        vertical-align: middle;\n",
       "    }\n",
       "\n",
       "    .dataframe tbody tr th {\n",
       "        vertical-align: top;\n",
       "    }\n",
       "\n",
       "    .dataframe thead tr th {\n",
       "        text-align: left;\n",
       "    }\n",
       "\n",
       "    .dataframe thead tr:last-of-type th {\n",
       "        text-align: right;\n",
       "    }\n",
       "</style>\n",
       "<table border=\"1\" class=\"dataframe\">\n",
       "  <thead>\n",
       "    <tr>\n",
       "      <th></th>\n",
       "      <th colspan=\"21\" halign=\"left\">subreddit_id</th>\n",
       "    </tr>\n",
       "    <tr>\n",
       "      <th>subreddit_id</th>\n",
       "      <th>62</th>\n",
       "      <th>111</th>\n",
       "      <th>142</th>\n",
       "      <th>151</th>\n",
       "      <th>162</th>\n",
       "      <th>174</th>\n",
       "      <th>187</th>\n",
       "      <th>198</th>\n",
       "      <th>259</th>\n",
       "      <th>260</th>\n",
       "      <th>...</th>\n",
       "      <th>34758</th>\n",
       "      <th>34788</th>\n",
       "      <th>34800</th>\n",
       "      <th>34869</th>\n",
       "      <th>34884</th>\n",
       "      <th>34890</th>\n",
       "      <th>34896</th>\n",
       "      <th>34904</th>\n",
       "      <th>34921</th>\n",
       "      <th>34924</th>\n",
       "    </tr>\n",
       "    <tr>\n",
       "      <th>username_id</th>\n",
       "      <th></th>\n",
       "      <th></th>\n",
       "      <th></th>\n",
       "      <th></th>\n",
       "      <th></th>\n",
       "      <th></th>\n",
       "      <th></th>\n",
       "      <th></th>\n",
       "      <th></th>\n",
       "      <th></th>\n",
       "      <th></th>\n",
       "      <th></th>\n",
       "      <th></th>\n",
       "      <th></th>\n",
       "      <th></th>\n",
       "      <th></th>\n",
       "      <th></th>\n",
       "      <th></th>\n",
       "      <th></th>\n",
       "      <th></th>\n",
       "      <th></th>\n",
       "    </tr>\n",
       "  </thead>\n",
       "  <tbody>\n",
       "    <tr>\n",
       "      <th>0</th>\n",
       "      <td>0</td>\n",
       "      <td>0</td>\n",
       "      <td>0</td>\n",
       "      <td>0</td>\n",
       "      <td>0</td>\n",
       "      <td>0</td>\n",
       "      <td>0</td>\n",
       "      <td>0</td>\n",
       "      <td>0</td>\n",
       "      <td>0</td>\n",
       "      <td>...</td>\n",
       "      <td>0</td>\n",
       "      <td>0</td>\n",
       "      <td>0</td>\n",
       "      <td>0</td>\n",
       "      <td>0</td>\n",
       "      <td>0</td>\n",
       "      <td>0</td>\n",
       "      <td>0</td>\n",
       "      <td>0</td>\n",
       "      <td>0</td>\n",
       "    </tr>\n",
       "    <tr>\n",
       "      <th>1</th>\n",
       "      <td>0</td>\n",
       "      <td>0</td>\n",
       "      <td>0</td>\n",
       "      <td>0</td>\n",
       "      <td>0</td>\n",
       "      <td>0</td>\n",
       "      <td>0</td>\n",
       "      <td>0</td>\n",
       "      <td>0</td>\n",
       "      <td>0</td>\n",
       "      <td>...</td>\n",
       "      <td>8</td>\n",
       "      <td>0</td>\n",
       "      <td>0</td>\n",
       "      <td>0</td>\n",
       "      <td>0</td>\n",
       "      <td>0</td>\n",
       "      <td>0</td>\n",
       "      <td>0</td>\n",
       "      <td>0</td>\n",
       "      <td>0</td>\n",
       "    </tr>\n",
       "    <tr>\n",
       "      <th>2</th>\n",
       "      <td>0</td>\n",
       "      <td>0</td>\n",
       "      <td>0</td>\n",
       "      <td>0</td>\n",
       "      <td>0</td>\n",
       "      <td>0</td>\n",
       "      <td>0</td>\n",
       "      <td>0</td>\n",
       "      <td>0</td>\n",
       "      <td>0</td>\n",
       "      <td>...</td>\n",
       "      <td>0</td>\n",
       "      <td>0</td>\n",
       "      <td>0</td>\n",
       "      <td>0</td>\n",
       "      <td>0</td>\n",
       "      <td>0</td>\n",
       "      <td>0</td>\n",
       "      <td>0</td>\n",
       "      <td>0</td>\n",
       "      <td>0</td>\n",
       "    </tr>\n",
       "    <tr>\n",
       "      <th>3</th>\n",
       "      <td>0</td>\n",
       "      <td>0</td>\n",
       "      <td>0</td>\n",
       "      <td>0</td>\n",
       "      <td>0</td>\n",
       "      <td>0</td>\n",
       "      <td>0</td>\n",
       "      <td>0</td>\n",
       "      <td>0</td>\n",
       "      <td>0</td>\n",
       "      <td>...</td>\n",
       "      <td>0</td>\n",
       "      <td>0</td>\n",
       "      <td>0</td>\n",
       "      <td>0</td>\n",
       "      <td>0</td>\n",
       "      <td>0</td>\n",
       "      <td>0</td>\n",
       "      <td>0</td>\n",
       "      <td>0</td>\n",
       "      <td>0</td>\n",
       "    </tr>\n",
       "    <tr>\n",
       "      <th>4</th>\n",
       "      <td>0</td>\n",
       "      <td>0</td>\n",
       "      <td>0</td>\n",
       "      <td>0</td>\n",
       "      <td>0</td>\n",
       "      <td>0</td>\n",
       "      <td>0</td>\n",
       "      <td>0</td>\n",
       "      <td>0</td>\n",
       "      <td>0</td>\n",
       "      <td>...</td>\n",
       "      <td>0</td>\n",
       "      <td>0</td>\n",
       "      <td>0</td>\n",
       "      <td>0</td>\n",
       "      <td>0</td>\n",
       "      <td>0</td>\n",
       "      <td>0</td>\n",
       "      <td>0</td>\n",
       "      <td>0</td>\n",
       "      <td>0</td>\n",
       "    </tr>\n",
       "  </tbody>\n",
       "</table>\n",
       "<p>5 rows × 1573 columns</p>\n",
       "</div>"
      ],
      "text/plain": [
       "             subreddit_id                                                  \\\n",
       "subreddit_id        62    111   142   151   162   174   187   198   259     \n",
       "username_id                                                                 \n",
       "0                       0     0     0     0     0     0     0     0     0   \n",
       "1                       0     0     0     0     0     0     0     0     0   \n",
       "2                       0     0     0     0     0     0     0     0     0   \n",
       "3                       0     0     0     0     0     0     0     0     0   \n",
       "4                       0     0     0     0     0     0     0     0     0   \n",
       "\n",
       "                    ...                                                   \\\n",
       "subreddit_id 260    ...  34758 34788 34800 34869 34884 34890 34896 34904   \n",
       "username_id         ...                                                    \n",
       "0                0  ...      0     0     0     0     0     0     0     0   \n",
       "1                0  ...      8     0     0     0     0     0     0     0   \n",
       "2                0  ...      0     0     0     0     0     0     0     0   \n",
       "3                0  ...      0     0     0     0     0     0     0     0   \n",
       "4                0  ...      0     0     0     0     0     0     0     0   \n",
       "\n",
       "                          \n",
       "subreddit_id 34921 34924  \n",
       "username_id               \n",
       "0                0     0  \n",
       "1                0     0  \n",
       "2                0     0  \n",
       "3                0     0  \n",
       "4                0     0  \n",
       "\n",
       "[5 rows x 1573 columns]"
      ]
     },
     "execution_count": 12,
     "metadata": {},
     "output_type": "execute_result"
    }
   ],
   "source": [
    "clean_df.head()"
   ]
  },
  {
   "cell_type": "code",
   "execution_count": 14,
   "metadata": {},
   "outputs": [],
   "source": [
    "# subreddit_data.head()\n",
    "# subreddit_data.loc[tup[-1]][1]"
   ]
  },
  {
   "cell_type": "code",
   "execution_count": 15,
   "metadata": {},
   "outputs": [],
   "source": [
    "tup = tuple(reddata['subreddit_id'].unique())\n",
    "\n",
    "subreditnames = []\n",
    "for i,el in enumerate(tup):\n",
    "    subreditnames.append([subreddit_data.loc[tup[i]][1],el])\n",
    "subreditnames[-1]\n",
    "\n",
    "subnames = pd.DataFrame(data= subreditnames, columns = ['subreddit_name', 'subreddit_id'])\n",
    "\n",
    "subnames.set_index('subreddit_id', drop = True, inplace =True)\n",
    "\n",
    "# subnames.head() # completed the creation of names to subreddit id's, \n",
    "# # just need to concat on subreddit id and should be good.\n",
    "reddit_data = reddata.join(subnames, on = 'subreddit_id') # welp thats it then. "
   ]
  },
  {
   "cell_type": "code",
   "execution_count": 16,
   "metadata": {},
   "outputs": [],
   "source": [
    "reddit_data['datetime'] = pd.to_datetime(reddit_data['datetime'])"
   ]
  },
  {
   "cell_type": "code",
   "execution_count": 17,
   "metadata": {},
   "outputs": [
    {
     "data": {
      "text/html": [
       "<div>\n",
       "<style scoped>\n",
       "    .dataframe tbody tr th:only-of-type {\n",
       "        vertical-align: middle;\n",
       "    }\n",
       "\n",
       "    .dataframe tbody tr th {\n",
       "        vertical-align: top;\n",
       "    }\n",
       "\n",
       "    .dataframe thead th {\n",
       "        text-align: right;\n",
       "    }\n",
       "</style>\n",
       "<table border=\"1\" class=\"dataframe\">\n",
       "  <thead>\n",
       "    <tr style=\"text-align: right;\">\n",
       "      <th></th>\n",
       "      <th>Unnamed: 0</th>\n",
       "      <th>datetime</th>\n",
       "      <th>utc</th>\n",
       "      <th>username_id</th>\n",
       "      <th>subreddit_id</th>\n",
       "      <th>subreddit_name</th>\n",
       "    </tr>\n",
       "  </thead>\n",
       "  <tbody>\n",
       "    <tr>\n",
       "      <th>4380099</th>\n",
       "      <td>4921289</td>\n",
       "      <td>2016-11-16 02:31:13</td>\n",
       "      <td>1.479263e+09</td>\n",
       "      <td>11505</td>\n",
       "      <td>28497</td>\n",
       "      <td>news</td>\n",
       "    </tr>\n",
       "    <tr>\n",
       "      <th>8940496</th>\n",
       "      <td>10058704</td>\n",
       "      <td>2016-09-27 04:48:34</td>\n",
       "      <td>1.474952e+09</td>\n",
       "      <td>12865</td>\n",
       "      <td>32789</td>\n",
       "      <td>television</td>\n",
       "    </tr>\n",
       "    <tr>\n",
       "      <th>12263462</th>\n",
       "      <td>13803734</td>\n",
       "      <td>2016-08-19 18:16:26</td>\n",
       "      <td>1.471631e+09</td>\n",
       "      <td>15022</td>\n",
       "      <td>26783</td>\n",
       "      <td>leagueoflegends</td>\n",
       "    </tr>\n",
       "    <tr>\n",
       "      <th>4397889</th>\n",
       "      <td>4940962</td>\n",
       "      <td>2016-04-22 14:05:25</td>\n",
       "      <td>1.461334e+09</td>\n",
       "      <td>954</td>\n",
       "      <td>19814</td>\n",
       "      <td>argentina</td>\n",
       "    </tr>\n",
       "    <tr>\n",
       "      <th>855288</th>\n",
       "      <td>965736</td>\n",
       "      <td>2016-04-19 06:16:58</td>\n",
       "      <td>1.461047e+09</td>\n",
       "      <td>15314</td>\n",
       "      <td>1402</td>\n",
       "      <td>AskReddit</td>\n",
       "    </tr>\n",
       "  </tbody>\n",
       "</table>\n",
       "</div>"
      ],
      "text/plain": [
       "          Unnamed: 0            datetime           utc  username_id  \\\n",
       "4380099      4921289 2016-11-16 02:31:13  1.479263e+09        11505   \n",
       "8940496     10058704 2016-09-27 04:48:34  1.474952e+09        12865   \n",
       "12263462    13803734 2016-08-19 18:16:26  1.471631e+09        15022   \n",
       "4397889      4940962 2016-04-22 14:05:25  1.461334e+09          954   \n",
       "855288        965736 2016-04-19 06:16:58  1.461047e+09        15314   \n",
       "\n",
       "          subreddit_id   subreddit_name  \n",
       "4380099          28497             news  \n",
       "8940496          32789       television  \n",
       "12263462         26783  leagueoflegends  \n",
       "4397889          19814        argentina  \n",
       "855288            1402        AskReddit  "
      ]
     },
     "execution_count": 17,
     "metadata": {},
     "output_type": "execute_result"
    }
   ],
   "source": [
    "sample = (reddit_data.take(np.random.permutation(len(reddata))[:500000]))\n",
    "sample.head()"
   ]
  },
  {
   "cell_type": "code",
   "execution_count": 18,
   "metadata": {},
   "outputs": [
    {
     "data": {
      "text/plain": [
       "'\\nshould not cluster id by another id.\\nit is dam pointless.. . .\\n'"
      ]
     },
     "execution_count": 18,
     "metadata": {},
     "output_type": "execute_result"
    }
   ],
   "source": [
    "'''\n",
    "should not cluster id by another id.\n",
    "it is dam pointless.. . .\n",
    "'''\n",
    "# dbs = DBSCAN(eps=.25).fit(sample) ## DBSCAN not an option. . . \n",
    "# set(dbs.labels_)\n",
    "\n",
    "# kmean = KMeans(n_clusters=25).fit(sample[['username_id','subreddit_id']])\n",
    "# sample['kmeans'] = kmean.labels_\n",
    "# kmean\n",
    "\n",
    "# elbows = vis(sample)  = 4\n",
    "# elbows"
   ]
  },
  {
   "cell_type": "code",
   "execution_count": 19,
   "metadata": {},
   "outputs": [],
   "source": [
    "# from sklearn.mixture import GaussianMixture\n",
    "# gmix = GaussianMixture(n_components=4).fit(sample[['username_id','subreddit_id','utc']])\n",
    "# sample['gmix'] = pd.factorize(gmix.predict(sample[['username_id','subreddit_id','utc']]))[0]"
   ]
  },
  {
   "cell_type": "code",
   "execution_count": 20,
   "metadata": {},
   "outputs": [
    {
     "name": "stdout",
     "output_type": "stream",
     "text": [
      "number of users 20638\n",
      "number of subredits 1573\n"
     ]
    }
   ],
   "source": [
    "user_count = sample['username_id'].unique().size\n",
    "redit_coutn = sample['subreddit_id'].unique().size\n",
    "print(f'number of users {user_count}\\nnumber of subredits {redit_coutn}')"
   ]
  },
  {
   "cell_type": "code",
   "execution_count": 21,
   "metadata": {},
   "outputs": [
    {
     "data": {
      "text/plain": [
       "'effectively pointless. . . '"
      ]
     },
     "execution_count": 21,
     "metadata": {},
     "output_type": "execute_result"
    }
   ],
   "source": [
    "'''effectively pointless. . . '''\n",
    "# sns.set_style(\"whitegrid\", {'axes.grid' : False})\n",
    "# fig = plt.figure(figsize=(6,6))\n",
    "# ax = Axes3D(fig) # Method 1\n",
    "# # ax = fig.add_subplot(111, projection='3d') # Method 2\n",
    "# x = sample['subreddit_id']\n",
    "# y = sample['username_id']\n",
    "# # # z = patients['patient_diabetic'] \n",
    "# # z = patients['patient_gender_int'] \n",
    "# z = sample['kmeans']\n",
    "# # z = np.random.uniform(1,100,size=20)\n",
    "# ax.scatter(x, y, z, c=x, marker='o')\n",
    "# ax.set_xlabel('X Label')\n",
    "# ax.set_ylabel('Y Label')\n",
    "# ax.set_zlabel('Z Label')\n",
    "# plt.show()\n",
    "\n",
    "# # sample.groupby('username_id').count().sort_values('subreddit_name', ascending=False)\n",
    "\n",
    "# print(sample['kmeans'].value_counts().sort_values(ascending=False), \n",
    "#     '\\n', sample['kmeans'].plot('hist'))"
   ]
  },
  {
   "cell_type": "code",
   "execution_count": 74,
   "metadata": {},
   "outputs": [],
   "source": [
    "def date_analysis (df): # takes df of subreddit \n",
    "    dfsort = df.sort_values(by = 'datetime')\n",
    "    df1 = pd.to_datetime(dfsort['datetime'][1:] )\n",
    "    df2 = pd.to_datetime(dfsort['datetime'][:-1])\n",
    "    df3 = pd.DataFrame(list(map(lambda x,y: pd.Timedelta(x-y).seconds/60 , df1,df2 )))\n",
    "    return int(df3[df3<=10].count())#/df3.count())\n",
    "\n",
    "def date_analysis_per_col(df, subreddit_names):\n",
    "    temp = [] \n",
    "    for subreddit in subreddit_names:\n",
    "        temp.append(\n",
    "            date_analysis(\n",
    "                df[df['subreddit_name']==str(subreddit)]\n",
    "            ))\n",
    "        \n",
    "#     dftemp= pd.DataFrame(data = temp, columns = ['date_result']) # issue here \n",
    "        \n",
    "    return temp"
   ]
  },
  {
   "cell_type": "code",
   "execution_count": 75,
   "metadata": {},
   "outputs": [],
   "source": [
    "G = nx.convert_matrix.from_pandas_edgelist(sample, source = 'username_id', target = 'subreddit_name')\n",
    "# nx.draw_kamada_kawai(G)\n",
    "\n",
    "# top5_dict(dict(nx.eigenvector_centrality_numpy(G))) # we will be using this to define popularity..\n",
    "test12 = dict(nx.eigenvector_centrality_numpy(G))\n",
    "# test2 = lambda x: x test1.key() == str()\n",
    "\n",
    "new_test ={}\n",
    "for i in test12.keys():\n",
    "    if type(i) == str:\n",
    "        new_test[i]=test12[i]\n",
    "    \n",
    "# well centrality of each subreddit. . . \n",
    "# def top5_dict(in_put, top = 5):\n",
    "# in_sort = test1.items(), key=lambda kv: kv[1]\n",
    "# #     top_ones =[el for i,el in enumerate(in_sort) if i<top]\n",
    "# #     return top_ones\n",
    "# test = pd.DataFrame(data = in_short, columns =['subreddit_name','centrality'])\n",
    "\n",
    "test1 = pd.Series(new_test)\n"
   ]
  },
  {
   "cell_type": "code",
   "execution_count": 76,
   "metadata": {},
   "outputs": [],
   "source": [
    "test = pd.DataFrame()\n",
    "test['centrality']= test1"
   ]
  },
  {
   "cell_type": "code",
   "execution_count": 77,
   "metadata": {
    "scrolled": true
   },
   "outputs": [],
   "source": [
    "# generates fuller value for ploting bellow... may consider other types of data for later right now e use this..\n",
    "# test['date_y'] = \n",
    "test['date_y'] = date_analysis_per_col(sample, list(sample['subreddit_name'].unique()))\n",
    "\n",
    "# date_analysis(sample[sample['subreddit_name'] == 'news'])"
   ]
  },
  {
   "cell_type": "code",
   "execution_count": 78,
   "metadata": {},
   "outputs": [
    {
     "data": {
      "text/html": [
       "<div>\n",
       "<style scoped>\n",
       "    .dataframe tbody tr th:only-of-type {\n",
       "        vertical-align: middle;\n",
       "    }\n",
       "\n",
       "    .dataframe tbody tr th {\n",
       "        vertical-align: top;\n",
       "    }\n",
       "\n",
       "    .dataframe thead th {\n",
       "        text-align: right;\n",
       "    }\n",
       "</style>\n",
       "<table border=\"1\" class=\"dataframe\">\n",
       "  <thead>\n",
       "    <tr style=\"text-align: right;\">\n",
       "      <th></th>\n",
       "      <th>centrality</th>\n",
       "      <th>date_y</th>\n",
       "    </tr>\n",
       "  </thead>\n",
       "  <tbody>\n",
       "    <tr>\n",
       "      <th>youtubetitties</th>\n",
       "      <td>0.000237</td>\n",
       "      <td>2</td>\n",
       "    </tr>\n",
       "    <tr>\n",
       "      <th>WouldYouRather</th>\n",
       "      <td>0.001385</td>\n",
       "      <td>1</td>\n",
       "    </tr>\n",
       "    <tr>\n",
       "      <th>ptcgo</th>\n",
       "      <td>0.000243</td>\n",
       "      <td>1</td>\n",
       "    </tr>\n",
       "    <tr>\n",
       "      <th>Finland</th>\n",
       "      <td>0.000384</td>\n",
       "      <td>1</td>\n",
       "    </tr>\n",
       "    <tr>\n",
       "      <th>geek</th>\n",
       "      <td>0.001642</td>\n",
       "      <td>0</td>\n",
       "    </tr>\n",
       "  </tbody>\n",
       "</table>\n",
       "</div>"
      ],
      "text/plain": [
       "                centrality  date_y\n",
       "youtubetitties    0.000237       2\n",
       "WouldYouRather    0.001385       1\n",
       "ptcgo             0.000243       1\n",
       "Finland           0.000384       1\n",
       "geek              0.001642       0"
      ]
     },
     "execution_count": 78,
     "metadata": {},
     "output_type": "execute_result"
    }
   ],
   "source": [
    "test.tail()"
   ]
  },
  {
   "cell_type": "code",
   "execution_count": 73,
   "metadata": {},
   "outputs": [
    {
     "data": {
      "text/plain": [
       "6"
      ]
     },
     "execution_count": 73,
     "metadata": {},
     "output_type": "execute_result"
    },
    {
     "data": {
      "image/png": "[encoded data removed]",
      "text/plain": [
       "<Figure size 432x288 with 2 Axes>"
      ]
     },
     "metadata": {
      "needs_background": "light"
     },
     "output_type": "display_data"
    }
   ],
   "source": [
    "# ---momnet o truth---\n",
    "vis(test[['centrality','date_y']]) # elbow is = 10"
   ]
  },
  {
   "cell_type": "code",
   "execution_count": 86,
   "metadata": {},
   "outputs": [],
   "source": [
    "kmean = KMeans(n_clusters=10).fit(test[['centrality','date_y']])\n",
    "test['kmeans'] = kmean.labels_"
   ]
  },
  {
   "cell_type": "code",
   "execution_count": 92,
   "metadata": {},
   "outputs": [
    {
     "data": {
      "text/plain": [
       "31"
      ]
     },
     "execution_count": 92,
     "metadata": {},
     "output_type": "execute_result"
    }
   ],
   "source": [
    "from sklearn.cluster import DBSCAN\n",
    "\n",
    "dbs = DBSCAN(eps=.25).fit(test[['centrality','date_y']])\n",
    "\n",
    "test['dbscan'] = dbs.labels_\n",
    "len(set(dbs.labels_))"
   ]
  },
  {
   "cell_type": "code",
   "execution_count": 88,
   "metadata": {},
   "outputs": [
    {
     "data": {
      "text/html": [
       "<div>\n",
       "<style scoped>\n",
       "    .dataframe tbody tr th:only-of-type {\n",
       "        vertical-align: middle;\n",
       "    }\n",
       "\n",
       "    .dataframe tbody tr th {\n",
       "        vertical-align: top;\n",
       "    }\n",
       "\n",
       "    .dataframe thead th {\n",
       "        text-align: right;\n",
       "    }\n",
       "</style>\n",
       "<table border=\"1\" class=\"dataframe\">\n",
       "  <thead>\n",
       "    <tr style=\"text-align: right;\">\n",
       "      <th></th>\n",
       "      <th>centrality</th>\n",
       "      <th>date_y</th>\n",
       "      <th>kmeans</th>\n",
       "      <th>dbscan</th>\n",
       "    </tr>\n",
       "  </thead>\n",
       "  <tbody>\n",
       "    <tr>\n",
       "      <th>news</th>\n",
       "      <td>0.143735</td>\n",
       "      <td>1195</td>\n",
       "      <td>3</td>\n",
       "      <td>-1</td>\n",
       "    </tr>\n",
       "    <tr>\n",
       "      <th>television</th>\n",
       "      <td>0.047055</td>\n",
       "      <td>100</td>\n",
       "      <td>9</td>\n",
       "      <td>-1</td>\n",
       "    </tr>\n",
       "    <tr>\n",
       "      <th>leagueoflegends</th>\n",
       "      <td>0.024637</td>\n",
       "      <td>695</td>\n",
       "      <td>7</td>\n",
       "      <td>-1</td>\n",
       "    </tr>\n",
       "    <tr>\n",
       "      <th>argentina</th>\n",
       "      <td>0.000603</td>\n",
       "      <td>29</td>\n",
       "      <td>0</td>\n",
       "      <td>-1</td>\n",
       "    </tr>\n",
       "    <tr>\n",
       "      <th>AskReddit</th>\n",
       "      <td>0.412695</td>\n",
       "      <td>22523</td>\n",
       "      <td>1</td>\n",
       "      <td>-1</td>\n",
       "    </tr>\n",
       "  </tbody>\n",
       "</table>\n",
       "</div>"
      ],
      "text/plain": [
       "                 centrality  date_y  kmeans  dbscan\n",
       "news               0.143735    1195       3      -1\n",
       "television         0.047055     100       9      -1\n",
       "leagueoflegends    0.024637     695       7      -1\n",
       "argentina          0.000603      29       0      -1\n",
       "AskReddit          0.412695   22523       1      -1"
      ]
     },
     "execution_count": 88,
     "metadata": {},
     "output_type": "execute_result"
    }
   ],
   "source": [
    "test.head()"
   ]
  },
  {
   "cell_type": "code",
   "execution_count": 93,
   "metadata": {},
   "outputs": [],
   "source": [
    "test.to_csv('clustered_subreddits.csv')"
   ]
  },
  {
   "cell_type": "code",
   "execution_count": 89,
   "metadata": {},
   "outputs": [
    {
     "name": "stdout",
     "output_type": "stream",
     "text": [
      "kmeans:\t87.28%\n",
      "dbscan:\t82.91%\n"
     ]
    }
   ],
   "source": [
    "models= {\n",
    "    'kmeans': kmean,\n",
    "    'dbscan': dbs,\n",
    "#     'agglom': agglom,\n",
    "#     'gmix': gmix\n",
    "}\n",
    "    \n",
    "from sklearn.metrics import silhouette_score\n",
    "\n",
    "for key in models.keys():\n",
    "    score = silhouette_score(test, test[key])*100\n",
    "    print(f'{key}:\\t{round(score,2)}%')"
   ]
  },
  {
   "cell_type": "code",
   "execution_count": null,
   "metadata": {},
   "outputs": [],
   "source": [
    "# from sklearn.manifold import TSNE\n",
    "\n",
    "# fig, ax = plt.subplots(1,4, figsize = (15,7))\n",
    "# for i, p in enumerate([5,30,50,100]):\n",
    "#     tsne= TSNE(perplexity=p)\n",
    "#     reduce = pd.DataFrame(tsne.fit_transform(\n",
    "#         features_4d\n",
    "#     ))\n",
    "#     sns.scatterplot(\n",
    "#         data = reduce,\n",
    "#         x=0,\n",
    "#         y=1,\n",
    "#         hue = iris['species'],\n",
    "#         ax=ax[i]\n",
    "#     )\n",
    "#     ax[i].set_title(f'Perplexity = {p}')\n",
    "# plt.show()"
   ]
  }
 ],
 "metadata": {
  "kernelspec": {
   "display_name": "Python 3",
   "language": "python",
   "name": "python3"
  },
  "language_info": {
   "codemirror_mode": {
    "name": "ipython",
    "version": 3
   },
   "file_extension": ".py",
   "mimetype": "text/x-python",
   "name": "python",
   "nbconvert_exporter": "python",
   "pygments_lexer": "ipython3",
   "version": "3.7.1"
  }
 },
 "nbformat": 4,
 "nbformat_minor": 2
}
